{
 "cells": [
  {
   "cell_type": "code",
   "execution_count": 22,
   "metadata": {},
   "outputs": [],
   "source": [
    "import pandas as pd\n",
    "import numpy as np\n",
    "import matplotlib.pyplot as plt"
   ]
  },
  {
   "cell_type": "markdown",
   "metadata": {},
   "source": [
    "# Task 6"
   ]
  },
  {
   "cell_type": "code",
   "execution_count": 23,
   "metadata": {},
   "outputs": [
    {
     "data": {
      "text/html": [
       "<div>\n",
       "<style scoped>\n",
       "    .dataframe tbody tr th:only-of-type {\n",
       "        vertical-align: middle;\n",
       "    }\n",
       "\n",
       "    .dataframe tbody tr th {\n",
       "        vertical-align: top;\n",
       "    }\n",
       "\n",
       "    .dataframe thead th {\n",
       "        text-align: right;\n",
       "    }\n",
       "</style>\n",
       "<table border=\"1\" class=\"dataframe\">\n",
       "  <thead>\n",
       "    <tr style=\"text-align: right;\">\n",
       "      <th></th>\n",
       "      <th>DemandID</th>\n",
       "      <th>Demand Request Date</th>\n",
       "      <th>Mix</th>\n",
       "      <th>jarSize</th>\n",
       "      <th>State</th>\n",
       "      <th>Quantity</th>\n",
       "      <th>Earliest Delivery Date</th>\n",
       "      <th>Preferred Delivery Date</th>\n",
       "      <th>Latest Delivery Date</th>\n",
       "      <th>Earliest Acceptable Shipping Date</th>\n",
       "      <th>Preferred Shipping Date</th>\n",
       "      <th>Latest Acceptable Shipping Date</th>\n",
       "      <th>MinOrderToShip</th>\n",
       "      <th>PrefOrderToShip</th>\n",
       "      <th>MaxOrderToShip</th>\n",
       "      <th>Smoothed Daily Demand</th>\n",
       "    </tr>\n",
       "  </thead>\n",
       "  <tbody>\n",
       "    <tr>\n",
       "      <th>0</th>\n",
       "      <td>1</td>\n",
       "      <td>2021-01-01</td>\n",
       "      <td>Apple-Mango</td>\n",
       "      <td>8</td>\n",
       "      <td>Maryland</td>\n",
       "      <td>1</td>\n",
       "      <td>2021-01-01</td>\n",
       "      <td>2021-01-04</td>\n",
       "      <td>2021-01-07</td>\n",
       "      <td>2020-12-27</td>\n",
       "      <td>2020-12-30</td>\n",
       "      <td>2021-01-02</td>\n",
       "      <td>-5</td>\n",
       "      <td>-2</td>\n",
       "      <td>1</td>\n",
       "      <td>0.142857</td>\n",
       "    </tr>\n",
       "    <tr>\n",
       "      <th>1</th>\n",
       "      <td>39</td>\n",
       "      <td>2021-01-01</td>\n",
       "      <td>Orange-Passionfruit</td>\n",
       "      <td>32</td>\n",
       "      <td>Maryland</td>\n",
       "      <td>1</td>\n",
       "      <td>2021-01-01</td>\n",
       "      <td>2021-01-03</td>\n",
       "      <td>2021-01-03</td>\n",
       "      <td>2020-12-27</td>\n",
       "      <td>2020-12-29</td>\n",
       "      <td>2020-12-29</td>\n",
       "      <td>-5</td>\n",
       "      <td>-3</td>\n",
       "      <td>-3</td>\n",
       "      <td>0.333333</td>\n",
       "    </tr>\n",
       "    <tr>\n",
       "      <th>2</th>\n",
       "      <td>53</td>\n",
       "      <td>2021-01-01</td>\n",
       "      <td>Grape-Pomegranate</td>\n",
       "      <td>8</td>\n",
       "      <td>Maryland</td>\n",
       "      <td>1</td>\n",
       "      <td>2021-01-02</td>\n",
       "      <td>2021-01-07</td>\n",
       "      <td>2021-01-18</td>\n",
       "      <td>2020-12-28</td>\n",
       "      <td>2021-01-02</td>\n",
       "      <td>2021-01-13</td>\n",
       "      <td>-4</td>\n",
       "      <td>1</td>\n",
       "      <td>12</td>\n",
       "      <td>0.058824</td>\n",
       "    </tr>\n",
       "    <tr>\n",
       "      <th>3</th>\n",
       "      <td>125</td>\n",
       "      <td>2021-01-02</td>\n",
       "      <td>Cherry-Lime</td>\n",
       "      <td>32</td>\n",
       "      <td>Maryland</td>\n",
       "      <td>1</td>\n",
       "      <td>2021-01-03</td>\n",
       "      <td>2021-01-06</td>\n",
       "      <td>2021-01-08</td>\n",
       "      <td>2020-12-29</td>\n",
       "      <td>2021-01-01</td>\n",
       "      <td>2021-01-03</td>\n",
       "      <td>-4</td>\n",
       "      <td>-1</td>\n",
       "      <td>1</td>\n",
       "      <td>0.166667</td>\n",
       "    </tr>\n",
       "    <tr>\n",
       "      <th>4</th>\n",
       "      <td>182</td>\n",
       "      <td>2021-01-02</td>\n",
       "      <td>Strawberry-Kiwi</td>\n",
       "      <td>32</td>\n",
       "      <td>Maryland</td>\n",
       "      <td>1</td>\n",
       "      <td>2021-01-02</td>\n",
       "      <td>2021-01-03</td>\n",
       "      <td>2021-01-06</td>\n",
       "      <td>2020-12-28</td>\n",
       "      <td>2020-12-29</td>\n",
       "      <td>2021-01-01</td>\n",
       "      <td>-5</td>\n",
       "      <td>-4</td>\n",
       "      <td>-1</td>\n",
       "      <td>0.200000</td>\n",
       "    </tr>\n",
       "  </tbody>\n",
       "</table>\n",
       "</div>"
      ],
      "text/plain": [
       "   DemandID Demand Request Date                  Mix  jarSize     State  \\\n",
       "0         1          2021-01-01          Apple-Mango        8  Maryland   \n",
       "1        39          2021-01-01  Orange-Passionfruit       32  Maryland   \n",
       "2        53          2021-01-01    Grape-Pomegranate        8  Maryland   \n",
       "3       125          2021-01-02          Cherry-Lime       32  Maryland   \n",
       "4       182          2021-01-02      Strawberry-Kiwi       32  Maryland   \n",
       "\n",
       "   Quantity Earliest Delivery Date Preferred Delivery Date  \\\n",
       "0         1             2021-01-01              2021-01-04   \n",
       "1         1             2021-01-01              2021-01-03   \n",
       "2         1             2021-01-02              2021-01-07   \n",
       "3         1             2021-01-03              2021-01-06   \n",
       "4         1             2021-01-02              2021-01-03   \n",
       "\n",
       "  Latest Delivery Date Earliest Acceptable Shipping Date  \\\n",
       "0           2021-01-07                        2020-12-27   \n",
       "1           2021-01-03                        2020-12-27   \n",
       "2           2021-01-18                        2020-12-28   \n",
       "3           2021-01-08                        2020-12-29   \n",
       "4           2021-01-06                        2020-12-28   \n",
       "\n",
       "  Preferred Shipping Date Latest Acceptable Shipping Date  MinOrderToShip  \\\n",
       "0              2020-12-30                      2021-01-02              -5   \n",
       "1              2020-12-29                      2020-12-29              -5   \n",
       "2              2021-01-02                      2021-01-13              -4   \n",
       "3              2021-01-01                      2021-01-03              -4   \n",
       "4              2020-12-29                      2021-01-01              -5   \n",
       "\n",
       "   PrefOrderToShip  MaxOrderToShip  Smoothed Daily Demand  \n",
       "0               -2               1               0.142857  \n",
       "1               -3              -3               0.333333  \n",
       "2                1              12               0.058824  \n",
       "3               -1               1               0.166667  \n",
       "4               -4              -1               0.200000  "
      ]
     },
     "execution_count": 23,
     "metadata": {},
     "output_type": "execute_result"
    }
   ],
   "source": [
    "# read modified_data/\n",
    "df_demand_log = pd.read_csv('modified_data/df_demand_log_t5.csv')\n",
    "df_demand_log.rename(columns={'Jar Size  (vol. ounces)': 'jarSize'}, inplace=True)\n",
    "df_demand_log.head()"
   ]
  },
  {
   "cell_type": "code",
   "execution_count": 24,
   "metadata": {},
   "outputs": [
    {
     "name": "stdout",
     "output_type": "stream",
     "text": [
      "Percentage of lost demand: 25.21%\n"
     ]
    }
   ],
   "source": [
    "# Query where orders are impossible to fulfill\n",
    "lost_demand = df_demand_log.query('MaxOrderToShip < 0')\n",
    "acheivable_demand = df_demand_log.query('MaxOrderToShip >= 0')\n",
    "\n",
    "# Percentage of lost demand\n",
    "lost_demand_percentage = lost_demand['Quantity'].sum() / df_demand_log['Quantity'].sum() * 100\n",
    "\n",
    "print(f'Percentage of lost demand: {lost_demand_percentage:.2f}%')"
   ]
  },
  {
   "cell_type": "markdown",
   "metadata": {},
   "source": [
    "About 25% of the volume of demand is lost due shipping timelines where the mix that was order would have to be shipped date before the day of request, or earlier. Depending on the responsiveness of the supply chain, this could potentially make day of shipping or shortly after impossible as well."
   ]
  },
  {
   "cell_type": "markdown",
   "metadata": {},
   "source": [
    "# Task 7"
   ]
  },
  {
   "cell_type": "code",
   "execution_count": 25,
   "metadata": {},
   "outputs": [
    {
     "data": {
      "text/html": [
       "<div>\n",
       "<style scoped>\n",
       "    .dataframe tbody tr th:only-of-type {\n",
       "        vertical-align: middle;\n",
       "    }\n",
       "\n",
       "    .dataframe tbody tr th {\n",
       "        vertical-align: top;\n",
       "    }\n",
       "\n",
       "    .dataframe thead th {\n",
       "        text-align: right;\n",
       "    }\n",
       "</style>\n",
       "<table border=\"1\" class=\"dataframe\">\n",
       "  <thead>\n",
       "    <tr style=\"text-align: right;\">\n",
       "      <th></th>\n",
       "      <th>Center</th>\n",
       "      <th>1</th>\n",
       "      <th>2</th>\n",
       "      <th>3</th>\n",
       "      <th>4</th>\n",
       "      <th>5</th>\n",
       "      <th>Unit</th>\n",
       "    </tr>\n",
       "  </thead>\n",
       "  <tbody>\n",
       "    <tr>\n",
       "      <th>0</th>\n",
       "      <td>Mixing</td>\n",
       "      <td>640</td>\n",
       "      <td>1664</td>\n",
       "      <td>2304</td>\n",
       "      <td>2816</td>\n",
       "      <td>3200</td>\n",
       "      <td>Ounces</td>\n",
       "    </tr>\n",
       "    <tr>\n",
       "      <th>1</th>\n",
       "      <td>Bottling</td>\n",
       "      <td>100</td>\n",
       "      <td>175</td>\n",
       "      <td>240</td>\n",
       "      <td>300</td>\n",
       "      <td>350</td>\n",
       "      <td>Jars</td>\n",
       "    </tr>\n",
       "    <tr>\n",
       "      <th>2</th>\n",
       "      <td>Packing</td>\n",
       "      <td>30</td>\n",
       "      <td>55</td>\n",
       "      <td>100</td>\n",
       "      <td>130</td>\n",
       "      <td>150</td>\n",
       "      <td>Jars</td>\n",
       "    </tr>\n",
       "  </tbody>\n",
       "</table>\n",
       "</div>"
      ],
      "text/plain": [
       "     Center    1     2     3     4     5    Unit\n",
       "0    Mixing  640  1664  2304  2816  3200  Ounces\n",
       "1  Bottling  100   175   240   300   350    Jars\n",
       "2   Packing   30    55   100   130   150    Jars"
      ]
     },
     "execution_count": 25,
     "metadata": {},
     "output_type": "execute_result"
    }
   ],
   "source": [
    "production_capacity = pd.read_excel('FruitSoul Production and Materials Characteristics and Costs.xlsx', sheet_name='Center Capacity', header=2)\n",
    "production_capacity.rename(columns={'Unnamed: 1': 'Center', 'Unnamed: 7': \"Unit\"}, inplace=True)\n",
    "production_capacity.drop(columns=['Unnamed: 0'], inplace=True)\n",
    "production_capacity"
   ]
  },
  {
   "cell_type": "markdown",
   "metadata": {},
   "source": [
    "## Mixing Demand History\n",
    "\n",
    "Because mixing demand is measured in ounces, it's demand is not exactly in line with packaging and bottling demand."
   ]
  },
  {
   "cell_type": "code",
   "execution_count": 30,
   "metadata": {},
   "outputs": [],
   "source": [
    "# Preferred Demand History\n",
    "preferred_mixing_demand = acheivable_demand.groupby([\"Preferred Shipping Date\"]).agg({\"Quantity\": \"sum\"}).reset_index().rename(columns={\"jarSize\": \"Ounces Demand\"})\n",
    "\n",
    "# Earliest Arrival Demand History\n",
    "preferred_mixing_demand = acheivable_demand.groupby([\"Earliest Acceptable Shipping Date\"]).agg({\"Quantity\": \"sum\"}).reset_index().rename(columns={\"jarSize\": \"Ounces Demand\"})\n",
    "\n",
    "# Latest Arrival Demand History\n",
    "preferred_mixing_demand = acheivable_demand.groupby([\"Latest Acceptable Shipping Date\"]).agg({\"Quantity\": \"sum\"}).reset_index().rename(columns={\"jarSize\": \"Ounces Demand\"})\n",
    "\n",
    "# Smoothed Arrival Demand History"
   ]
  },
  {
   "cell_type": "markdown",
   "metadata": {},
   "source": [
    "## Packaging and Bottling Demand\n",
    "\n",
    "Because packaging and bottling demand is measured in jar, the demand will be identical for each order."
   ]
  },
  {
   "cell_type": "code",
   "execution_count": null,
   "metadata": {},
   "outputs": [],
   "source": [
    "# Preferred Demand History\n",
    "preferred_mixing_demand = acheivable_demand.groupby([\"Preferred Shipping Date\"]).agg({\"jarSize\": \"sum\"}).reset_index().rename(columns={\"jarSize\": \"Jars Demand\"})\n",
    "# Earliest Arrival Demand History\n",
    "preferred_mixing_demand = acheivable_demand.groupby([\"Earliest Acceptable Shipping Date\"]).agg({\"jarSize\": \"sum\"}).reset_index().rename(columns={\"jarSize\": \"Jars Demand\"})\n",
    "# Latest Arrival Demand History\n",
    "preferred_mixing_demand = acheivable_demand.groupby([\"Latest Acceptable Shipping Date\"]).agg({\"jarSize\": \"sum\"}).reset_index().rename(columns={\"jarSize\": \"Jars Demand\"})\n",
    "\n",
    "# Smoothed Arrival Demand History"
   ]
  }
 ],
 "metadata": {
  "kernelspec": {
   "display_name": "data-science",
   "language": "python",
   "name": "python3"
  },
  "language_info": {
   "codemirror_mode": {
    "name": "ipython",
    "version": 3
   },
   "file_extension": ".py",
   "mimetype": "text/x-python",
   "name": "python",
   "nbconvert_exporter": "python",
   "pygments_lexer": "ipython3",
   "version": "3.12.4"
  }
 },
 "nbformat": 4,
 "nbformat_minor": 2
}
