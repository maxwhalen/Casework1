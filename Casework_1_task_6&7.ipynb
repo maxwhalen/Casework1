{
 "cells": [
  {
   "cell_type": "code",
   "execution_count": 1,
   "metadata": {},
   "outputs": [],
   "source": [
    "import pandas as pd\n",
    "import numpy as np\n",
    "import matplotlib.pyplot as plt\n",
    "from scipy.stats import norm"
   ]
  },
  {
   "cell_type": "markdown",
   "metadata": {},
   "source": [
    "# Task 6"
   ]
  },
  {
   "cell_type": "code",
   "execution_count": 2,
   "metadata": {},
   "outputs": [
    {
     "data": {
      "text/html": [
       "<div>\n",
       "<style scoped>\n",
       "    .dataframe tbody tr th:only-of-type {\n",
       "        vertical-align: middle;\n",
       "    }\n",
       "\n",
       "    .dataframe tbody tr th {\n",
       "        vertical-align: top;\n",
       "    }\n",
       "\n",
       "    .dataframe thead th {\n",
       "        text-align: right;\n",
       "    }\n",
       "</style>\n",
       "<table border=\"1\" class=\"dataframe\">\n",
       "  <thead>\n",
       "    <tr style=\"text-align: right;\">\n",
       "      <th></th>\n",
       "      <th>DemandID</th>\n",
       "      <th>Demand Request Date</th>\n",
       "      <th>Mix</th>\n",
       "      <th>jarSize</th>\n",
       "      <th>State</th>\n",
       "      <th>Quantity</th>\n",
       "      <th>Earliest Delivery Date</th>\n",
       "      <th>Preferred Delivery Date</th>\n",
       "      <th>Latest Delivery Date</th>\n",
       "      <th>Earliest Acceptable Shipping Date</th>\n",
       "      <th>Preferred Shipping Date</th>\n",
       "      <th>Latest Acceptable Shipping Date</th>\n",
       "      <th>MinOrderToShip</th>\n",
       "      <th>PrefOrderToShip</th>\n",
       "      <th>MaxOrderToShip</th>\n",
       "      <th>Smoothed Daily Demand</th>\n",
       "    </tr>\n",
       "  </thead>\n",
       "  <tbody>\n",
       "    <tr>\n",
       "      <th>0</th>\n",
       "      <td>1</td>\n",
       "      <td>2021-01-01</td>\n",
       "      <td>Apple-Mango</td>\n",
       "      <td>8</td>\n",
       "      <td>Maryland</td>\n",
       "      <td>1</td>\n",
       "      <td>2021-01-01</td>\n",
       "      <td>2021-01-04</td>\n",
       "      <td>2021-01-07</td>\n",
       "      <td>2020-12-27</td>\n",
       "      <td>2020-12-30</td>\n",
       "      <td>2021-01-02</td>\n",
       "      <td>-5</td>\n",
       "      <td>-2</td>\n",
       "      <td>1</td>\n",
       "      <td>0.142857</td>\n",
       "    </tr>\n",
       "    <tr>\n",
       "      <th>1</th>\n",
       "      <td>39</td>\n",
       "      <td>2021-01-01</td>\n",
       "      <td>Orange-Passionfruit</td>\n",
       "      <td>32</td>\n",
       "      <td>Maryland</td>\n",
       "      <td>1</td>\n",
       "      <td>2021-01-01</td>\n",
       "      <td>2021-01-03</td>\n",
       "      <td>2021-01-03</td>\n",
       "      <td>2020-12-27</td>\n",
       "      <td>2020-12-29</td>\n",
       "      <td>2020-12-29</td>\n",
       "      <td>-5</td>\n",
       "      <td>-3</td>\n",
       "      <td>-3</td>\n",
       "      <td>0.333333</td>\n",
       "    </tr>\n",
       "    <tr>\n",
       "      <th>2</th>\n",
       "      <td>53</td>\n",
       "      <td>2021-01-01</td>\n",
       "      <td>Grape-Pomegranate</td>\n",
       "      <td>8</td>\n",
       "      <td>Maryland</td>\n",
       "      <td>1</td>\n",
       "      <td>2021-01-02</td>\n",
       "      <td>2021-01-07</td>\n",
       "      <td>2021-01-18</td>\n",
       "      <td>2020-12-28</td>\n",
       "      <td>2021-01-02</td>\n",
       "      <td>2021-01-13</td>\n",
       "      <td>-4</td>\n",
       "      <td>1</td>\n",
       "      <td>12</td>\n",
       "      <td>0.058824</td>\n",
       "    </tr>\n",
       "    <tr>\n",
       "      <th>3</th>\n",
       "      <td>125</td>\n",
       "      <td>2021-01-02</td>\n",
       "      <td>Cherry-Lime</td>\n",
       "      <td>32</td>\n",
       "      <td>Maryland</td>\n",
       "      <td>1</td>\n",
       "      <td>2021-01-03</td>\n",
       "      <td>2021-01-06</td>\n",
       "      <td>2021-01-08</td>\n",
       "      <td>2020-12-29</td>\n",
       "      <td>2021-01-01</td>\n",
       "      <td>2021-01-03</td>\n",
       "      <td>-4</td>\n",
       "      <td>-1</td>\n",
       "      <td>1</td>\n",
       "      <td>0.166667</td>\n",
       "    </tr>\n",
       "    <tr>\n",
       "      <th>4</th>\n",
       "      <td>182</td>\n",
       "      <td>2021-01-02</td>\n",
       "      <td>Strawberry-Kiwi</td>\n",
       "      <td>32</td>\n",
       "      <td>Maryland</td>\n",
       "      <td>1</td>\n",
       "      <td>2021-01-02</td>\n",
       "      <td>2021-01-03</td>\n",
       "      <td>2021-01-06</td>\n",
       "      <td>2020-12-28</td>\n",
       "      <td>2020-12-29</td>\n",
       "      <td>2021-01-01</td>\n",
       "      <td>-5</td>\n",
       "      <td>-4</td>\n",
       "      <td>-1</td>\n",
       "      <td>0.200000</td>\n",
       "    </tr>\n",
       "  </tbody>\n",
       "</table>\n",
       "</div>"
      ],
      "text/plain": [
       "   DemandID Demand Request Date                  Mix  jarSize     State  \\\n",
       "0         1          2021-01-01          Apple-Mango        8  Maryland   \n",
       "1        39          2021-01-01  Orange-Passionfruit       32  Maryland   \n",
       "2        53          2021-01-01    Grape-Pomegranate        8  Maryland   \n",
       "3       125          2021-01-02          Cherry-Lime       32  Maryland   \n",
       "4       182          2021-01-02      Strawberry-Kiwi       32  Maryland   \n",
       "\n",
       "   Quantity Earliest Delivery Date Preferred Delivery Date  \\\n",
       "0         1             2021-01-01              2021-01-04   \n",
       "1         1             2021-01-01              2021-01-03   \n",
       "2         1             2021-01-02              2021-01-07   \n",
       "3         1             2021-01-03              2021-01-06   \n",
       "4         1             2021-01-02              2021-01-03   \n",
       "\n",
       "  Latest Delivery Date Earliest Acceptable Shipping Date  \\\n",
       "0           2021-01-07                        2020-12-27   \n",
       "1           2021-01-03                        2020-12-27   \n",
       "2           2021-01-18                        2020-12-28   \n",
       "3           2021-01-08                        2020-12-29   \n",
       "4           2021-01-06                        2020-12-28   \n",
       "\n",
       "  Preferred Shipping Date Latest Acceptable Shipping Date  MinOrderToShip  \\\n",
       "0              2020-12-30                      2021-01-02              -5   \n",
       "1              2020-12-29                      2020-12-29              -5   \n",
       "2              2021-01-02                      2021-01-13              -4   \n",
       "3              2021-01-01                      2021-01-03              -4   \n",
       "4              2020-12-29                      2021-01-01              -5   \n",
       "\n",
       "   PrefOrderToShip  MaxOrderToShip  Smoothed Daily Demand  \n",
       "0               -2               1               0.142857  \n",
       "1               -3              -3               0.333333  \n",
       "2                1              12               0.058824  \n",
       "3               -1               1               0.166667  \n",
       "4               -4              -1               0.200000  "
      ]
     },
     "execution_count": 2,
     "metadata": {},
     "output_type": "execute_result"
    }
   ],
   "source": [
    "# read modified_data/\n",
    "df_demand_log = pd.read_csv('modified_data/df_demand_log_t5.csv')\n",
    "df_demand_log.rename(columns={'Jar Size  (vol. ounces)': 'jarSize'}, inplace=True)\n",
    "df_demand_log.head()"
   ]
  },
  {
   "cell_type": "code",
   "execution_count": 3,
   "metadata": {},
   "outputs": [
    {
     "name": "stdout",
     "output_type": "stream",
     "text": [
      "Percentage of lost demand: 25.21%\n"
     ]
    }
   ],
   "source": [
    "# Query where orders are impossible to fulfill\n",
    "lost_demand = df_demand_log.query('MaxOrderToShip < 0')\n",
    "acheivable_demand = df_demand_log.query('MaxOrderToShip >= 0')\n",
    "\n",
    "# Percentage of lost demand\n",
    "lost_demand_percentage = lost_demand['Quantity'].sum() / df_demand_log['Quantity'].sum() * 100\n",
    "\n",
    "print(f'Percentage of lost demand: {lost_demand_percentage:.2f}%')"
   ]
  },
  {
   "cell_type": "markdown",
   "metadata": {},
   "source": [
    "About 25% of the volume of demand is lost due shipping timelines where the mix that was order would have to be shipped date before the day of request, or earlier. Depending on the responsiveness of the supply chain, this could potentially make day of shipping or shortly after impossible as well."
   ]
  },
  {
   "cell_type": "markdown",
   "metadata": {},
   "source": [
    "# Task 7"
   ]
  },
  {
   "cell_type": "code",
   "execution_count": 4,
   "metadata": {},
   "outputs": [],
   "source": [
    "production_capacity = pd.read_excel('FruitSoul Production and Materials Characteristics and Costs.xlsx', sheet_name='Center Capacity', header=2)\n",
    "production_capacity.rename(columns={'Unnamed: 1': 'Center', 'Unnamed: 7': \"Unit\"}, inplace=True)\n",
    "production_capacity.drop(columns=['Unnamed: 0'], inplace=True)"
   ]
  },
  {
   "cell_type": "markdown",
   "metadata": {},
   "source": [
    "## Mixing Demand History\n",
    "\n",
    "Because mixing demand is measured in ounces, it's demand is not exactly in line with packaging and bottling demand."
   ]
  },
  {
   "cell_type": "markdown",
   "metadata": {},
   "source": [
    "### Demand History: Ounces"
   ]
  },
  {
   "cell_type": "code",
   "execution_count": 6,
   "metadata": {},
   "outputs": [
    {
     "name": "stderr",
     "output_type": "stream",
     "text": [
      "/var/folders/1g/8vbqswf55db7cq6z4fs9npbr0000gn/T/ipykernel_30384/2866100714.py:2: SettingWithCopyWarning: \n",
      "A value is trying to be set on a copy of a slice from a DataFrame.\n",
      "Try using .loc[row_indexer,col_indexer] = value instead\n",
      "\n",
      "See the caveats in the documentation: https://pandas.pydata.org/pandas-docs/stable/user_guide/indexing.html#returning-a-view-versus-a-copy\n",
      "  acheivable_demand['ozOfProduct'] = acheivable_demand['Quantity'] * acheivable_demand['jarSize']\n"
     ]
    }
   ],
   "source": [
    "# Create total ounces columns\n",
    "acheivable_demand['ozOfProduct'] = acheivable_demand['Quantity'] * acheivable_demand['jarSize']\n",
    "\n",
    "# Preferred Demand History\n",
    "preferred_ounces_demand = acheivable_demand.groupby([\"Preferred Shipping Date\"]).agg({\"ozOfProduct\": \"sum\"}).reset_index().rename(columns={\"jarSize\": \"Ounces Demand\"})\n",
    "\n",
    "# Earliest Arrival Demand History\n",
    "early_ounces_demand = acheivable_demand.groupby([\"Earliest Acceptable Shipping Date\"]).agg({\"ozOfProduct\": \"sum\"}).reset_index().rename(columns={\"jarSize\": \"Ounces Demand\"})\n",
    "\n",
    "# Latest Arrival Demand History\n",
    "late_ounces_demand = acheivable_demand.groupby([\"Latest Acceptable Shipping Date\"]).agg({\"ozOfProduct\": \"sum\"}).reset_index().rename(columns={\"jarSize\": \"Ounces Demand\"})\n",
    "\n",
    "# Smoothed Arrival Demand History\n",
    "\n",
    "def demand_probability(row, col_name='Quantity'):\n",
    "    preferred_date = pd.to_datetime(row['Preferred Shipping Date'])\n",
    "    earliest_date = pd.to_datetime(row['Earliest Acceptable Shipping Date'])\n",
    "    latest_date = pd.to_datetime(row['Latest Acceptable Shipping Date'])\n",
    "    \n",
    "    # Calculate the standard deviation (earliest/latest represent ±2 standard deviations)\n",
    "    std_dev = (latest_date - earliest_date).days / 4\n",
    "    \n",
    "    # Ensure std_dev is at least 1 to avoid division by zero\n",
    "    std_dev = max(std_dev, 1)\n",
    "    \n",
    "    # Initialize empty list for smoothed demand distribution\n",
    "    demand_distribution = []\n",
    "    \n",
    "    # Compute cumulative probabilities for the range of acceptable shipping dates\n",
    "    for day in pd.date_range(earliest_date, latest_date):\n",
    "        # CDF at the start and end of the day\n",
    "        cdf_start = norm.cdf((day - pd.Timedelta(days=0.5) - preferred_date).days, scale=std_dev)\n",
    "        cdf_end = norm.cdf((day + pd.Timedelta(days=0.5) - preferred_date).days, scale=std_dev)\n",
    "        \n",
    "        # Cumulative probability for the 24-hour period (between start and end of the day)\n",
    "        daily_probability = cdf_end - cdf_start\n",
    "        \n",
    "        demand_distribution.append({\n",
    "            'Date': day,\n",
    "            'Mix': row['Mix'],\n",
    "            'Probability': daily_probability\n",
    "        })\n",
    "    \n",
    "    # Convert list to DataFrame\n",
    "    df_demand_distribution = pd.DataFrame(demand_distribution)\n",
    "\n",
    "    if len(df_demand_distribution) == 0:\n",
    "        return pd.DataFrame(columns=['Date', 'Mix', 'Smoothed Daily Demand'])\n",
    "    \n",
    "    # Normalize probabilities to sum up to 1, then scale to match total quantity\n",
    "    df_demand_distribution['smoothedDailyDemand'] = (df_demand_distribution['Probability']) * row[col_name]\n",
    "    \n",
    "    return df_demand_distribution[['Date', 'Mix', 'smoothedDailyDemand']]\n",
    "\n",
    "# Apply the function to each row in the demand log and concatenate the results\n",
    "smoothed_ounces_demand = pd.concat([demand_probability(row, col_name = 'ozOfProduct') for _, row in acheivable_demand.iterrows()])"
   ]
  },
  {
   "cell_type": "markdown",
   "metadata": {},
   "source": [
    "### Demand History: Jars\n",
    "\n",
    "Because packaging and bottling demand is measured in jar, the demand will be identical for each order."
   ]
  },
  {
   "cell_type": "code",
   "execution_count": 7,
   "metadata": {},
   "outputs": [],
   "source": [
    "# Preferred Demand History\n",
    "preferred_jars_demand = acheivable_demand.groupby([\"Preferred Shipping Date\"]).agg({\"Quantity\": \"sum\"}).reset_index().rename(columns={\"jarSize\": \"Jars Demand\"})\n",
    "# Earliest Arrival Demand History\n",
    "early_jars_demand = acheivable_demand.groupby([\"Earliest Acceptable Shipping Date\"]).agg({\"Quantity\": \"sum\"}).reset_index().rename(columns={\"jarSize\": \"Jars Demand\"})\n",
    "# Latest Arrival Demand History\n",
    "late_jars_demand = acheivable_demand.groupby([\"Latest Acceptable Shipping Date\"]).agg({\"Quantity\": \"sum\"}).reset_index().rename(columns={\"jarSize\": \"Jars Demand\"})\n",
    "\n",
    "# Smoothed Arrival Demand History\n",
    "smoothed_jars_demand = pd.concat([demand_probability(row, col_name = 'Quantity') for _, row in acheivable_demand.iterrows()])"
   ]
  },
  {
   "cell_type": "markdown",
   "metadata": {},
   "source": [
    "### Adjust demand dates for off days\n"
   ]
  },
  {
   "cell_type": "code",
   "execution_count": 22,
   "metadata": {},
   "outputs": [],
   "source": [
    "# Function to check if a date is Labor Day\n",
    "def is_labor_day(date):\n",
    "    if date.strftime('%m') == '09' and date.strftime('%d') <= '07' and date.weekday() == 0:\n",
    "        return True\n",
    "    return False\n",
    "\n",
    "# Define the date for the 4th of July \n",
    "july_4th = '07-04'\n",
    "\n",
    "# Function to adjust dates for earliest or latest shipping dates on Sundays, labor days, or 4th of July\n",
    "def adjust_date(date, type='e'):\n",
    "    \"\"\"\n",
    "    Adjust the date based on the type:\n",
    "    'e' for Earliest Acceptable Shipping Date,\n",
    "    'l' for Latest Acceptable Shipping Date\n",
    "    \"\"\"\n",
    "    if type == 'e':\n",
    "        if date.weekday() == 6:\n",
    "            date = date + pd.Timedelta(days=1)\n",
    "        if is_labor_day(date) or date.strftime('%m-%d') == july_4th:\n",
    "            date = date + pd.Timedelta(days=1)\n",
    "            if date.weekday() == 6:\n",
    "                date = date + pd.Timedelta(days=1)\n",
    "        return date\n",
    "    \n",
    "    if type == 'l':\n",
    "        if is_labor_day(date) or date.strftime('%m-%d') == july_4th:\n",
    "            date = date - pd.Timedelta(days=1)\n",
    "        if date.weekday() == 6:\n",
    "            date = date - pd.Timedelta(days=1)\n",
    "            if is_labor_day(date) or date.strftime('%m-%d') == july_4th:\n",
    "                date = date - pd.Timedelta(days=1)\n",
    "        return date\n",
    "\n",
    "    return date\n",
    "\n",
    "# Adjust the dates\n",
    "smoothed_jars_demand['Date'] = smoothed_jars_demand['Date'].apply(lambda x: adjust_date(x, 'e'))\n",
    "smoothed_ounces_demand['Date'] = smoothed_ounces_demand['Date'].apply(lambda x: adjust_date(x, 'e'))\n",
    "\n",
    "# Function to check if a date is a Sunday, Labor Day, or the 4th of July\n",
    "def is_special_day(date):\n",
    "    return date.weekday() == 6 or is_labor_day(date) or date.strftime('%m-%d') == july_4th\n",
    "\n",
    "# Function to move the date forward by one day if it is a special day\n",
    "def adjust_preferred_shipping_date(date):\n",
    "    if is_special_day(date):\n",
    "        date += pd.Timedelta(days=1)\n",
    "        if is_special_day(date):\n",
    "            date -= pd.Timedelta(days=2)\n",
    "    return date\n",
    "\n",
    "# Apply the function to the Preferred Shipping Date column\n",
    "smoothed_jars_demand['Date'] = smoothed_jars_demand['Date'].apply(adjust_preferred_shipping_date)\n",
    "smoothed_ounces_demand['Date'] = smoothed_ounces_demand['Date'].apply(adjust_preferred_shipping_date)"
   ]
  },
  {
   "cell_type": "code",
   "execution_count": null,
   "metadata": {},
   "outputs": [],
   "source": [
    "smoothed_jars_demand_date = smoothed_jars_demand.groupby('Date').agg({'smoothedDailyDemand': 'sum'}).reset_index()\n",
    "smoothed_ounces_demand_date = smoothed_ounces_demand.groupby('Date').agg({'smoothedDailyDemand': 'sum'}).reset_index()"
   ]
  },
  {
   "cell_type": "markdown",
   "metadata": {},
   "source": [
    "# Task 8"
   ]
  },
  {
   "cell_type": "markdown",
   "metadata": {},
   "source": [
    "## Identify production capacity "
   ]
  },
  {
   "cell_type": "code",
   "execution_count": 23,
   "metadata": {},
   "outputs": [],
   "source": [
    "def identify_production_demand(demand_vector, s = 5):\n",
    "    s_pctile_demand  = np.percentile(np.array(demand_vector), 100-s)\n",
    "    return s_pctile_demand\n",
    "\n",
    "def identify_max_daily_production(production_capacity, center_name = \"Mixing\"):\n",
    "    max_shift_production = production_capacity[production_capacity['Center'] == center_name][5].values[0]\n",
    "    max_daily_production = max_shift_production * 2\n",
    "    return max_daily_production\n",
    "\n",
    "def identify_cells_needed(demand, max_daily_production):\n",
    "    cells_needed = np.ceil(demand / max_daily_production)\n",
    "    return cells_needed"
   ]
  },
  {
   "cell_type": "code",
   "execution_count": 37,
   "metadata": {},
   "outputs": [
    {
     "data": {
      "text/html": [
       "<div>\n",
       "<style scoped>\n",
       "    .dataframe tbody tr th:only-of-type {\n",
       "        vertical-align: middle;\n",
       "    }\n",
       "\n",
       "    .dataframe tbody tr th {\n",
       "        vertical-align: top;\n",
       "    }\n",
       "\n",
       "    .dataframe thead th {\n",
       "        text-align: right;\n",
       "    }\n",
       "</style>\n",
       "<table border=\"1\" class=\"dataframe\">\n",
       "  <thead>\n",
       "    <tr style=\"text-align: right;\">\n",
       "      <th></th>\n",
       "      <th>Date</th>\n",
       "      <th>smoothedDailyDemand</th>\n",
       "      <th>Unit</th>\n",
       "    </tr>\n",
       "  </thead>\n",
       "  <tbody>\n",
       "    <tr>\n",
       "      <th>0</th>\n",
       "      <td>2020-12-28</td>\n",
       "      <td>0.699472</td>\n",
       "      <td>Jars</td>\n",
       "    </tr>\n",
       "    <tr>\n",
       "      <th>1</th>\n",
       "      <td>2020-12-28</td>\n",
       "      <td>6.993890</td>\n",
       "      <td>Jars</td>\n",
       "    </tr>\n",
       "    <tr>\n",
       "      <th>2</th>\n",
       "      <td>2020-12-29</td>\n",
       "      <td>13.790215</td>\n",
       "      <td>Jars</td>\n",
       "    </tr>\n",
       "    <tr>\n",
       "      <th>3</th>\n",
       "      <td>2020-12-30</td>\n",
       "      <td>23.725394</td>\n",
       "      <td>Jars</td>\n",
       "    </tr>\n",
       "    <tr>\n",
       "      <th>4</th>\n",
       "      <td>2020-12-31</td>\n",
       "      <td>37.695940</td>\n",
       "      <td>Jars</td>\n",
       "    </tr>\n",
       "    <tr>\n",
       "      <th>...</th>\n",
       "      <td>...</td>\n",
       "      <td>...</td>\n",
       "      <td>...</td>\n",
       "    </tr>\n",
       "    <tr>\n",
       "      <th>1116</th>\n",
       "      <td>2024-01-17</td>\n",
       "      <td>0.103070</td>\n",
       "      <td>Jars</td>\n",
       "    </tr>\n",
       "    <tr>\n",
       "      <th>1117</th>\n",
       "      <td>2024-01-18</td>\n",
       "      <td>0.036771</td>\n",
       "      <td>Jars</td>\n",
       "    </tr>\n",
       "    <tr>\n",
       "      <th>1118</th>\n",
       "      <td>2024-01-19</td>\n",
       "      <td>0.017915</td>\n",
       "      <td>Jars</td>\n",
       "    </tr>\n",
       "    <tr>\n",
       "      <th>1119</th>\n",
       "      <td>2024-01-20</td>\n",
       "      <td>0.008219</td>\n",
       "      <td>Jars</td>\n",
       "    </tr>\n",
       "    <tr>\n",
       "      <th>1120</th>\n",
       "      <td>2024-01-22</td>\n",
       "      <td>0.002449</td>\n",
       "      <td>Jars</td>\n",
       "    </tr>\n",
       "  </tbody>\n",
       "</table>\n",
       "<p>1121 rows × 3 columns</p>\n",
       "</div>"
      ],
      "text/plain": [
       "           Date  smoothedDailyDemand  Unit\n",
       "0    2020-12-28             0.699472  Jars\n",
       "1    2020-12-28             6.993890  Jars\n",
       "2    2020-12-29            13.790215  Jars\n",
       "3    2020-12-30            23.725394  Jars\n",
       "4    2020-12-31            37.695940  Jars\n",
       "...         ...                  ...   ...\n",
       "1116 2024-01-17             0.103070  Jars\n",
       "1117 2024-01-18             0.036771  Jars\n",
       "1118 2024-01-19             0.017915  Jars\n",
       "1119 2024-01-20             0.008219  Jars\n",
       "1120 2024-01-22             0.002449  Jars\n",
       "\n",
       "[1121 rows x 3 columns]"
      ]
     },
     "execution_count": 37,
     "metadata": {},
     "output_type": "execute_result"
    }
   ],
   "source": [
    "jars = smoothed_jars_demand_date.rename(columns={'smoothedDailyDemand': 'jarsDemand'})\n",
    "ounces = smoothed_ounces_demand_date.rename(columns={'smoothedDailyDemand': 'ouncesDemand'})\n",
    "\n",
    "# Merge on Date\n",
    "production_demand = jars.merge(ounces, on='Date', how='left')\n",
    "\n",
    "# Fill NA values with 0\\\n",
    "production_demand.fillna(0, inplace=True)"
   ]
  },
  {
   "cell_type": "markdown",
   "metadata": {},
   "source": [
    "## Identify total cells needed"
   ]
  },
  {
   "cell_type": "code",
   "execution_count": 34,
   "metadata": {},
   "outputs": [],
   "source": [
    "def identify_total_cells_needed(production_demand, production_capacity, center_name, s):\n",
    "    unit = production_capacity[production_capacity['Center'] == center_name]['Unit'].values[0]\n",
    "    if unit == \"Jars\":\n",
    "        demand_vector = production_demand['jarsDemand']\n",
    "    else:\n",
    "        demand_vector = production_demand['ouncesDemand']\n",
    "    s_pctile_demand = identify_production_demand(demand_vector, s)\n",
    "    max_daily_production = identify_max_daily_production(production_capacity, center_name)\n",
    "    cells_needed = identify_cells_needed(s_pctile_demand, max_daily_production)\n",
    "    return cells_needed\n",
    "\n",
    "identify_total_cells_needed(production_demand['smoothedDailyDemand'], production_capacity, \"Mixing\", 5)"
   ]
  },
  {
   "cell_type": "markdown",
   "metadata": {},
   "source": [
    "## Optimize Daily Set-Up"
   ]
  },
  {
   "cell_type": "code",
   "execution_count": null,
   "metadata": {},
   "outputs": [
    {
     "data": {
      "text/plain": [
       "235.84775664364847"
      ]
     },
     "metadata": {},
     "output_type": "display_data"
    }
   ],
   "source": [
    "# Create function to return demand for a given date\n",
    "def get_demand(date, unit, production_demand, demandColumnName = 'smoothedDailyDemand'):\n",
    "    return production_demand[(production_demand['Date'] == date) & (production_demand['Unit'] == unit)][demandColumnName].values[0]"
   ]
  }
 ],
 "metadata": {
  "kernelspec": {
   "display_name": "data-science",
   "language": "python",
   "name": "python3"
  },
  "language_info": {
   "codemirror_mode": {
    "name": "ipython",
    "version": 3
   },
   "file_extension": ".py",
   "mimetype": "text/x-python",
   "name": "python",
   "nbconvert_exporter": "python",
   "pygments_lexer": "ipython3",
   "version": "3.12.4"
  }
 },
 "nbformat": 4,
 "nbformat_minor": 2
}
