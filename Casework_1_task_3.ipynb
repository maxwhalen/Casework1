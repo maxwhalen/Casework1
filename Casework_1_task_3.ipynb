{
 "cells": [
  {
   "cell_type": "code",
   "execution_count": 1,
   "metadata": {},
   "outputs": [],
   "source": [
    "import pandas as pd\n",
    "import matplotlib.pyplot as plt"
   ]
  },
  {
   "cell_type": "code",
   "execution_count": null,
   "metadata": {},
   "outputs": [],
   "source": [
    "# dataframe for demand log\n",
    "df_demand_log = pd.read_excel('FruitSoul Demand Log Fixed.xlsx')\n",
    "df_demand_log['Earliest Delivery Date'] = df_demand_log['Earliest Delivery Date'].dt.date\n",
    "df_demand_log['Preferred Delivery Date'] = df_demand_log['Preferred Delivery Date'].dt.date\n",
    "df_demand_log['Latest Delivery Date'] = df_demand_log['Latest Delivery Date'].dt.date\n",
    "df_demand_log"
   ]
  }
 ],
 "metadata": {
  "kernelspec": {
   "display_name": "base",
   "language": "python",
   "name": "python3"
  },
  "language_info": {
   "codemirror_mode": {
    "name": "ipython",
    "version": 3
   },
   "file_extension": ".py",
   "mimetype": "text/x-python",
   "name": "python",
   "nbconvert_exporter": "python",
   "pygments_lexer": "ipython3",
   "version": "3.12.4"
  }
 },
 "nbformat": 4,
 "nbformat_minor": 2
}
